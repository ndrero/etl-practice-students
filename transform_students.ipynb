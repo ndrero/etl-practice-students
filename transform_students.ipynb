{
 "cells": [
  {
   "cell_type": "markdown",
   "id": "03a911b5",
   "metadata": {},
   "source": [
    "Imports"
   ]
  },
  {
   "cell_type": "code",
   "execution_count": 10,
   "id": "be53f592",
   "metadata": {},
   "outputs": [],
   "source": [
    "import pandas as pd\n",
    "import re"
   ]
  },
  {
   "cell_type": "markdown",
   "id": "70605815",
   "metadata": {},
   "source": [
    "Load CSV"
   ]
  },
  {
   "cell_type": "code",
   "execution_count": 11,
   "id": "6c9f6162",
   "metadata": {},
   "outputs": [],
   "source": [
    "df_students = pd.read_csv('bi.csv', encoding='latin1')"
   ]
  },
  {
   "cell_type": "markdown",
   "id": "d0c271d3",
   "metadata": {},
   "source": [
    "DataFrame info"
   ]
  },
  {
   "cell_type": "code",
   "execution_count": 12,
   "id": "7c2be202",
   "metadata": {},
   "outputs": [
    {
     "name": "stdout",
     "output_type": "stream",
     "text": [
      "<class 'pandas.core.frame.DataFrame'>\n",
      "RangeIndex: 77 entries, 0 to 76\n",
      "Data columns (total 11 columns):\n",
      " #   Column         Non-Null Count  Dtype  \n",
      "---  ------         --------------  -----  \n",
      " 0   fNAME          77 non-null     object \n",
      " 1   lNAME          77 non-null     object \n",
      " 2   Age            77 non-null     int64  \n",
      " 3   gender         77 non-null     object \n",
      " 4   country        77 non-null     object \n",
      " 5   residence      77 non-null     object \n",
      " 6   entryEXAM      77 non-null     int64  \n",
      " 7   prevEducation  77 non-null     object \n",
      " 8   studyHOURS     77 non-null     int64  \n",
      " 9   Python         75 non-null     float64\n",
      " 10  DB             77 non-null     int64  \n",
      "dtypes: float64(1), int64(4), object(6)\n",
      "memory usage: 6.7+ KB\n"
     ]
    }
   ],
   "source": [
    "df_students.info()"
   ]
  },
  {
   "cell_type": "code",
   "execution_count": 13,
   "id": "4c7baaed",
   "metadata": {},
   "outputs": [
    {
     "data": {
      "text/html": [
       "<div>\n",
       "<style scoped>\n",
       "    .dataframe tbody tr th:only-of-type {\n",
       "        vertical-align: middle;\n",
       "    }\n",
       "\n",
       "    .dataframe tbody tr th {\n",
       "        vertical-align: top;\n",
       "    }\n",
       "\n",
       "    .dataframe thead th {\n",
       "        text-align: right;\n",
       "    }\n",
       "</style>\n",
       "<table border=\"1\" class=\"dataframe\">\n",
       "  <thead>\n",
       "    <tr style=\"text-align: right;\">\n",
       "      <th></th>\n",
       "      <th>fNAME</th>\n",
       "      <th>lNAME</th>\n",
       "      <th>Age</th>\n",
       "      <th>gender</th>\n",
       "      <th>country</th>\n",
       "      <th>residence</th>\n",
       "      <th>entryEXAM</th>\n",
       "      <th>prevEducation</th>\n",
       "      <th>studyHOURS</th>\n",
       "      <th>Python</th>\n",
       "      <th>DB</th>\n",
       "    </tr>\n",
       "  </thead>\n",
       "  <tbody>\n",
       "    <tr>\n",
       "      <th>0</th>\n",
       "      <td>Christina</td>\n",
       "      <td>Binger</td>\n",
       "      <td>44</td>\n",
       "      <td>Female</td>\n",
       "      <td>Norway</td>\n",
       "      <td>Private</td>\n",
       "      <td>72</td>\n",
       "      <td>Masters</td>\n",
       "      <td>158</td>\n",
       "      <td>59.0</td>\n",
       "      <td>55</td>\n",
       "    </tr>\n",
       "    <tr>\n",
       "      <th>1</th>\n",
       "      <td>Alex</td>\n",
       "      <td>Walekhwa</td>\n",
       "      <td>60</td>\n",
       "      <td>M</td>\n",
       "      <td>Kenya</td>\n",
       "      <td>Private</td>\n",
       "      <td>79</td>\n",
       "      <td>Diploma</td>\n",
       "      <td>150</td>\n",
       "      <td>60.0</td>\n",
       "      <td>75</td>\n",
       "    </tr>\n",
       "    <tr>\n",
       "      <th>2</th>\n",
       "      <td>Philip</td>\n",
       "      <td>Leo</td>\n",
       "      <td>25</td>\n",
       "      <td>Male</td>\n",
       "      <td>Uganda</td>\n",
       "      <td>Sognsvann</td>\n",
       "      <td>55</td>\n",
       "      <td>HighSchool</td>\n",
       "      <td>130</td>\n",
       "      <td>74.0</td>\n",
       "      <td>50</td>\n",
       "    </tr>\n",
       "    <tr>\n",
       "      <th>3</th>\n",
       "      <td>Shoni</td>\n",
       "      <td>Hlongwane</td>\n",
       "      <td>22</td>\n",
       "      <td>F</td>\n",
       "      <td>Rsa</td>\n",
       "      <td>Sognsvann</td>\n",
       "      <td>40</td>\n",
       "      <td>High School</td>\n",
       "      <td>120</td>\n",
       "      <td>NaN</td>\n",
       "      <td>44</td>\n",
       "    </tr>\n",
       "    <tr>\n",
       "      <th>4</th>\n",
       "      <td>Maria</td>\n",
       "      <td>Kedibone</td>\n",
       "      <td>23</td>\n",
       "      <td>Female</td>\n",
       "      <td>South Africa</td>\n",
       "      <td>Sognsvann</td>\n",
       "      <td>65</td>\n",
       "      <td>High School</td>\n",
       "      <td>122</td>\n",
       "      <td>91.0</td>\n",
       "      <td>80</td>\n",
       "    </tr>\n",
       "  </tbody>\n",
       "</table>\n",
       "</div>"
      ],
      "text/plain": [
       "       fNAME      lNAME  Age  gender       country  residence  entryEXAM  \\\n",
       "0  Christina     Binger   44  Female        Norway    Private         72   \n",
       "1       Alex   Walekhwa   60       M         Kenya    Private         79   \n",
       "2     Philip        Leo   25    Male        Uganda  Sognsvann         55   \n",
       "3      Shoni  Hlongwane   22       F           Rsa  Sognsvann         40   \n",
       "4      Maria   Kedibone   23  Female  South Africa  Sognsvann         65   \n",
       "\n",
       "  prevEducation  studyHOURS  Python  DB  \n",
       "0       Masters         158    59.0  55  \n",
       "1       Diploma         150    60.0  75  \n",
       "2    HighSchool         130    74.0  50  \n",
       "3   High School         120     NaN  44  \n",
       "4   High School         122    91.0  80  "
      ]
     },
     "execution_count": 13,
     "metadata": {},
     "output_type": "execute_result"
    }
   ],
   "source": [
    "df_students.head()"
   ]
  },
  {
   "cell_type": "markdown",
   "id": "6ab3fca8",
   "metadata": {},
   "source": [
    "Verify empty rows"
   ]
  },
  {
   "cell_type": "code",
   "execution_count": 14,
   "id": "aa795b31",
   "metadata": {},
   "outputs": [
    {
     "data": {
      "text/plain": [
       "fNAME            0\n",
       "lNAME            0\n",
       "Age              0\n",
       "gender           0\n",
       "country          0\n",
       "residence        0\n",
       "entryEXAM        0\n",
       "prevEducation    0\n",
       "studyHOURS       0\n",
       "Python           2\n",
       "DB               0\n",
       "dtype: int64"
      ]
     },
     "execution_count": 14,
     "metadata": {},
     "output_type": "execute_result"
    }
   ],
   "source": [
    "df_students.isnull().sum()"
   ]
  },
  {
   "cell_type": "markdown",
   "id": "e3e965e8",
   "metadata": {},
   "source": [
    "Rename columns"
   ]
  },
  {
   "cell_type": "code",
   "execution_count": 15,
   "id": "7953f487",
   "metadata": {},
   "outputs": [
    {
     "data": {
      "text/plain": [
       "Index(['first_name', 'last_name', 'age', 'gender', 'country', 'residence',\n",
       "       'entry_exam_score', 'previous_education', 'study_hours',\n",
       "       'python_exam_score', 'database_exam_score'],\n",
       "      dtype='object')"
      ]
     },
     "execution_count": 15,
     "metadata": {},
     "output_type": "execute_result"
    }
   ],
   "source": [
    "df_students.rename( columns={\n",
    "    'fNAME' : 'first_name',\n",
    "    'lNAME' : 'last_name',\n",
    "    'Age' : 'age',\n",
    "    'entryEXAM' : 'entry_exam_score',  \n",
    "    'studyHOURS' : 'study_hours',  \n",
    "    'prevEducation' : 'previous_education',  \n",
    "    'Python' : 'python_exam_score',  \n",
    "    'DB' : 'database_exam_score'\n",
    "}, inplace=True)\n",
    "\n",
    "df_students.columns"
   ]
  },
  {
   "cell_type": "markdown",
   "id": "6e23b168",
   "metadata": {},
   "source": [
    "Replace inconsistent country names"
   ]
  },
  {
   "cell_type": "code",
   "execution_count": 22,
   "id": "fed040dd",
   "metadata": {},
   "outputs": [
    {
     "data": {
      "text/plain": [
       "array(['Norway', 'Kenya', 'Uganda', 'South africa', 'Denmark',\n",
       "       'Netherlands', 'Italy', 'Spain', 'United kingdom', 'Somali',\n",
       "       'Nigeria', 'Germany', 'France'], dtype=object)"
      ]
     },
     "execution_count": 22,
     "metadata": {},
     "output_type": "execute_result"
    }
   ],
   "source": [
    "def replaceCountryNames(country):\n",
    "    replacements = {\n",
    "        'uk' : 'United Kingdom',\n",
    "        'norge' : 'RSA',\n",
    "        'rsa' : 'South Africa'\n",
    "    }\n",
    "\n",
    "    for old, new in replacements.items():\n",
    "        country = re.sub(old,new,country, flags=re.IGNORECASE).capitalize()\n",
    "    return country\n",
    "\n",
    "df_students['country'] = df_students['country'].apply(replaceCountryNames).copy()\n",
    "\n",
    "df_students['country'].unique()"
   ]
  },
  {
   "cell_type": "code",
   "execution_count": null,
   "id": "c2f970f4",
   "metadata": {},
   "outputs": [],
   "source": [
    "for i, row in df_students.iterrows():\n",
    "    print (row['country'])"
   ]
  },
  {
   "cell_type": "markdown",
   "id": "312f71bd",
   "metadata": {},
   "source": [
    "Gender value noise"
   ]
  },
  {
   "cell_type": "code",
   "execution_count": 24,
   "id": "061774aa",
   "metadata": {},
   "outputs": [
    {
     "data": {
      "text/plain": [
       "array(['Female', 'M', 'Male', 'F', 'female', 'male'], dtype=object)"
      ]
     },
     "execution_count": 24,
     "metadata": {},
     "output_type": "execute_result"
    }
   ],
   "source": [
    "df_students['gender'].unique()"
   ]
  },
  {
   "cell_type": "code",
   "execution_count": 25,
   "id": "faa859a9",
   "metadata": {},
   "outputs": [
    {
     "data": {
      "text/plain": [
       "array(['Female', 'Male'], dtype=object)"
      ]
     },
     "execution_count": 25,
     "metadata": {},
     "output_type": "execute_result"
    }
   ],
   "source": [
    "df_students['gender'] = df_students['gender'].replace(\n",
    "    ['F', 'female'], 'Female'\n",
    ")\n",
    "\n",
    "df_students['gender'] = df_students['gender'].replace(\n",
    "    ['M', 'male'], 'Male'\n",
    ")\n",
    "\n",
    "df_students['gender'].unique()"
   ]
  },
  {
   "cell_type": "markdown",
   "id": "7e7a86fe",
   "metadata": {},
   "source": [
    "Normalize previous education"
   ]
  },
  {
   "cell_type": "code",
   "execution_count": 26,
   "id": "567ccade",
   "metadata": {},
   "outputs": [
    {
     "data": {
      "text/plain": [
       "array(['Masters', 'Diploma', 'HighSchool', 'High School', 'Bachelors',\n",
       "       'Barrrchelors', 'diploma', 'DIPLOMA', 'Diplomaaa', 'Doctorate'],\n",
       "      dtype=object)"
      ]
     },
     "execution_count": 26,
     "metadata": {},
     "output_type": "execute_result"
    }
   ],
   "source": [
    "df_students['previous_education'].unique()"
   ]
  },
  {
   "cell_type": "code",
   "execution_count": 53,
   "id": "97797403",
   "metadata": {},
   "outputs": [
    {
     "data": {
      "text/plain": [
       "array(['Masters', 'Diploma', 'High School', 'Bachelors', 'Doctorate'],\n",
       "      dtype=object)"
      ]
     },
     "execution_count": 53,
     "metadata": {},
     "output_type": "execute_result"
    }
   ],
   "source": [
    "def normalize_previous_education(text):\n",
    "    subs = {\n",
    "    r'^high\\s*school' : 'High School',\n",
    "    r'Bar*chelors' :  'Bachelors',\n",
    "    r'diplom[a]*' : 'Diploma',\n",
    "    }  \n",
    "    for pattern, repl in subs.items():\n",
    "        text = re.sub(pattern, repl, text, flags=re.IGNORECASE)\n",
    "    return text\n",
    "\n",
    "df_students['previous_education'] =  df_students['previous_education'].apply(normalize_previous_education)\n",
    "\n",
    "df_students['previous_education'].unique()"
   ]
  }
 ],
 "metadata": {
  "kernelspec": {
   "display_name": "base",
   "language": "python",
   "name": "python3"
  },
  "language_info": {
   "codemirror_mode": {
    "name": "ipython",
    "version": 3
   },
   "file_extension": ".py",
   "mimetype": "text/x-python",
   "name": "python",
   "nbconvert_exporter": "python",
   "pygments_lexer": "ipython3",
   "version": "3.12.7"
  }
 },
 "nbformat": 4,
 "nbformat_minor": 5
}
